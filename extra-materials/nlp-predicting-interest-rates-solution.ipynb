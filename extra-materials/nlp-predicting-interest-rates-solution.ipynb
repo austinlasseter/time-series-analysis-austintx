{
 "cells": [
  {
   "cell_type": "markdown",
   "metadata": {},
   "source": [
    "<img src=\"http://imgur.com/1ZcRyrc.png\" style=\"float: left; margin: 20px; height: 55px\">\n",
    "\n",
    "# Modelling lab: Can we predict US government bond interest rates from financial news headlines?"
   ]
  },
  {
   "cell_type": "markdown",
   "metadata": {},
   "source": [
    "In this exercise we'll combine two datasets, government bond interest rates from the US treasury and business/financial news headlines from various sources, to see if we can predict the changes in interest rates from the news. The question we're getting at is: do news headlines give us an indication of future changes in interest rates?"
   ]
  },
  {
   "cell_type": "markdown",
   "metadata": {},
   "source": [
    "# Part 1 - US treasury data\n",
    "\n",
    "The data for this comes [from the Federal Reserve](https://www.federalreserve.gov/releases/H15/default.htm) and is the file `FRB_H15.csv` in the `data` folder.\n",
    "\n",
    "### 1. Load in the data, making sure excess headers are dealt with"
   ]
  },
  {
   "cell_type": "code",
   "execution_count": 1,
   "metadata": {},
   "outputs": [
    {
     "data": {
      "text/html": [
       "<div>\n",
       "<style scoped>\n",
       "    .dataframe tbody tr th:only-of-type {\n",
       "        vertical-align: middle;\n",
       "    }\n",
       "\n",
       "    .dataframe tbody tr th {\n",
       "        vertical-align: top;\n",
       "    }\n",
       "\n",
       "    .dataframe thead th {\n",
       "        text-align: right;\n",
       "    }\n",
       "</style>\n",
       "<table border=\"1\" class=\"dataframe\">\n",
       "  <thead>\n",
       "    <tr style=\"text-align: right;\">\n",
       "      <th></th>\n",
       "      <th>date</th>\n",
       "      <th>rate</th>\n",
       "    </tr>\n",
       "  </thead>\n",
       "  <tbody>\n",
       "    <tr>\n",
       "      <th>0</th>\n",
       "      <td>2000-01-01</td>\n",
       "      <td>3.99</td>\n",
       "    </tr>\n",
       "    <tr>\n",
       "      <th>1</th>\n",
       "      <td>2000-01-02</td>\n",
       "      <td>3.99</td>\n",
       "    </tr>\n",
       "    <tr>\n",
       "      <th>2</th>\n",
       "      <td>2000-01-03</td>\n",
       "      <td>5.43</td>\n",
       "    </tr>\n",
       "    <tr>\n",
       "      <th>3</th>\n",
       "      <td>2000-01-04</td>\n",
       "      <td>5.38</td>\n",
       "    </tr>\n",
       "    <tr>\n",
       "      <th>4</th>\n",
       "      <td>2000-01-05</td>\n",
       "      <td>5.41</td>\n",
       "    </tr>\n",
       "    <tr>\n",
       "      <th>5</th>\n",
       "      <td>2000-01-06</td>\n",
       "      <td>5.54</td>\n",
       "    </tr>\n",
       "    <tr>\n",
       "      <th>6</th>\n",
       "      <td>2000-01-07</td>\n",
       "      <td>5.61</td>\n",
       "    </tr>\n",
       "    <tr>\n",
       "      <th>7</th>\n",
       "      <td>2000-01-08</td>\n",
       "      <td>5.61</td>\n",
       "    </tr>\n",
       "    <tr>\n",
       "      <th>8</th>\n",
       "      <td>2000-01-09</td>\n",
       "      <td>5.61</td>\n",
       "    </tr>\n",
       "    <tr>\n",
       "      <th>9</th>\n",
       "      <td>2000-01-10</td>\n",
       "      <td>5.74</td>\n",
       "    </tr>\n",
       "  </tbody>\n",
       "</table>\n",
       "</div>"
      ],
      "text/plain": [
       "         date  rate\n",
       "0  2000-01-01  3.99\n",
       "1  2000-01-02  3.99\n",
       "2  2000-01-03  5.43\n",
       "3  2000-01-04  5.38\n",
       "4  2000-01-05  5.41\n",
       "5  2000-01-06  5.54\n",
       "6  2000-01-07  5.61\n",
       "7  2000-01-08  5.61\n",
       "8  2000-01-09  5.61\n",
       "9  2000-01-10  5.74"
      ]
     },
     "execution_count": 1,
     "metadata": {},
     "output_type": "execute_result"
    }
   ],
   "source": [
    "import pandas as pd\n",
    "\n",
    "df_rates = pd.read_csv(\"../data/FRB_H15.csv\", header=None, skiprows=6, names=[\"date\", \"rate\"])\n",
    "df_rates.head(10)"
   ]
  },
  {
   "cell_type": "markdown",
   "metadata": {},
   "source": [
    "### 2. Make sure the columns are appropriate types, converting as necessary\n",
    "\n",
    "Are there any missing values?"
   ]
  },
  {
   "cell_type": "code",
   "execution_count": 2,
   "metadata": {},
   "outputs": [
    {
     "data": {
      "text/plain": [
       "date     object\n",
       "rate    float64\n",
       "dtype: object"
      ]
     },
     "execution_count": 2,
     "metadata": {},
     "output_type": "execute_result"
    }
   ],
   "source": [
    "df_rates.dtypes"
   ]
  },
  {
   "cell_type": "code",
   "execution_count": 3,
   "metadata": {},
   "outputs": [
    {
     "data": {
      "text/plain": [
       "date    0\n",
       "rate    0\n",
       "dtype: int64"
      ]
     },
     "execution_count": 3,
     "metadata": {},
     "output_type": "execute_result"
    }
   ],
   "source": [
    "df_rates[\"date\"] = pd.to_datetime(df_rates[\"date\"])\n",
    "df_rates.isnull().sum()"
   ]
  },
  {
   "cell_type": "markdown",
   "metadata": {},
   "source": [
    "### 3. Plot the time series to get a feel for the data"
   ]
  },
  {
   "cell_type": "code",
   "execution_count": 4,
   "metadata": {},
   "outputs": [
    {
     "data": {
      "image/png": "[encoded data removed]",
      "text/plain": [
       "<Figure size 432x288 with 1 Axes>"
      ]
     },
     "metadata": {
      "needs_background": "light"
     },
     "output_type": "display_data"
    }
   ],
   "source": [
    "import matplotlib.pyplot as plt\n",
    "%matplotlib inline\n",
    "\n",
    "df_rates.set_index(\"date\")[\"rate\"].plot();"
   ]
  },
  {
   "cell_type": "code",
   "execution_count": 5,
   "metadata": {},
   "outputs": [
    {
     "data": {
      "image/png": "[encoded data removed]",
      "text/plain": [
       "<Figure size 432x288 with 1 Axes>"
      ]
     },
     "metadata": {
      "needs_background": "light"
     },
     "output_type": "display_data"
    }
   ],
   "source": [
    "# annual average to smooth things out a bit\n",
    "df_rates.set_index(\"date\").resample(\"YS\")[\"rate\"].mean().plot();"
   ]
  },
  {
   "cell_type": "markdown",
   "metadata": {},
   "source": [
    "### 4. Plot the time series for 2014 only\n",
    "\n",
    "The news dataset is from 2014, so let's get a feel for the interest rates in that year only."
   ]
  },
  {
   "cell_type": "code",
   "execution_count": 6,
   "metadata": {},
   "outputs": [
    {
     "data": {
      "image/png": "[encoded data removed]",
      "text/plain": [
       "<Figure size 432x288 with 1 Axes>"
      ]
     },
     "metadata": {
      "needs_background": "light"
     },
     "output_type": "display_data"
    }
   ],
   "source": [
    "df_rates[df_rates[\"date\"].dt.year == 2014].set_index(\"date\")[\"rate\"].plot();"
   ]
  },
  {
   "cell_type": "markdown",
   "metadata": {},
   "source": [
    "### 5. Add a \"change from yesterday\" column\n",
    "\n",
    "Rather than predicting the interest rate itself we'll try to predict the overnight change in the value from news items on the previous day. For that we'll need a target column, which is the change in interest rate from the day before.\n",
    "\n",
    "Create this column."
   ]
  },
  {
   "cell_type": "code",
   "execution_count": 7,
   "metadata": {},
   "outputs": [
    {
     "name": "stdout",
     "output_type": "stream",
     "text": [
      "7336\n",
      "7335\n"
     ]
    },
    {
     "data": {
      "text/html": [
       "<div>\n",
       "<style scoped>\n",
       "    .dataframe tbody tr th:only-of-type {\n",
       "        vertical-align: middle;\n",
       "    }\n",
       "\n",
       "    .dataframe tbody tr th {\n",
       "        vertical-align: top;\n",
       "    }\n",
       "\n",
       "    .dataframe thead th {\n",
       "        text-align: right;\n",
       "    }\n",
       "</style>\n",
       "<table border=\"1\" class=\"dataframe\">\n",
       "  <thead>\n",
       "    <tr style=\"text-align: right;\">\n",
       "      <th></th>\n",
       "      <th>date</th>\n",
       "      <th>rate</th>\n",
       "      <th>change</th>\n",
       "    </tr>\n",
       "  </thead>\n",
       "  <tbody>\n",
       "    <tr>\n",
       "      <th>1</th>\n",
       "      <td>2000-01-02</td>\n",
       "      <td>3.99</td>\n",
       "      <td>0.00</td>\n",
       "    </tr>\n",
       "    <tr>\n",
       "      <th>2</th>\n",
       "      <td>2000-01-03</td>\n",
       "      <td>5.43</td>\n",
       "      <td>1.44</td>\n",
       "    </tr>\n",
       "    <tr>\n",
       "      <th>3</th>\n",
       "      <td>2000-01-04</td>\n",
       "      <td>5.38</td>\n",
       "      <td>-0.05</td>\n",
       "    </tr>\n",
       "    <tr>\n",
       "      <th>4</th>\n",
       "      <td>2000-01-05</td>\n",
       "      <td>5.41</td>\n",
       "      <td>0.03</td>\n",
       "    </tr>\n",
       "    <tr>\n",
       "      <th>5</th>\n",
       "      <td>2000-01-06</td>\n",
       "      <td>5.54</td>\n",
       "      <td>0.13</td>\n",
       "    </tr>\n",
       "  </tbody>\n",
       "</table>\n",
       "</div>"
      ],
      "text/plain": [
       "        date  rate  change\n",
       "1 2000-01-02  3.99    0.00\n",
       "2 2000-01-03  5.43    1.44\n",
       "3 2000-01-04  5.38   -0.05\n",
       "4 2000-01-05  5.41    0.03\n",
       "5 2000-01-06  5.54    0.13"
      ]
     },
     "execution_count": 7,
     "metadata": {},
     "output_type": "execute_result"
    }
   ],
   "source": [
    "df_rates[\"change\"] = df_rates[\"rate\"] - df_rates[\"rate\"].shift()\n",
    "\n",
    "# necessarily have to drop NULLs\n",
    "print(len(df_rates))\n",
    "df_rates.dropna(inplace=True)\n",
    "print(len(df_rates))\n",
    "\n",
    "df_rates.head()"
   ]
  },
  {
   "cell_type": "markdown",
   "metadata": {},
   "source": [
    "# Part 2 - News\n",
    "\n",
    "Our news headline data comes from the UCI Machine Learning repository ([via Kaggle](https://www.kaggle.com/uciml/news-aggregator-dataset)). The news dataset originally has multiple categories, but the file provided for this exercise is limited to the \"business\" category.\n",
    "\n",
    "### 1. Read in the data\n",
    "\n",
    "The file is zipped to reduce its size, but `pandas` can actually open CSVs if they're in a Gzip archive directly (you don't have to do the unzipping yourself)."
   ]
  },
  {
   "cell_type": "code",
   "execution_count": 8,
   "metadata": {},
   "outputs": [
    {
     "data": {
      "text/html": [
       "<div>\n",
       "<style scoped>\n",
       "    .dataframe tbody tr th:only-of-type {\n",
       "        vertical-align: middle;\n",
       "    }\n",
       "\n",
       "    .dataframe tbody tr th {\n",
       "        vertical-align: top;\n",
       "    }\n",
       "\n",
       "    .dataframe thead th {\n",
       "        text-align: right;\n",
       "    }\n",
       "</style>\n",
       "<table border=\"1\" class=\"dataframe\">\n",
       "  <thead>\n",
       "    <tr style=\"text-align: right;\">\n",
       "      <th></th>\n",
       "      <th>TITLE</th>\n",
       "      <th>PUBLISHER</th>\n",
       "      <th>TIMESTAMP</th>\n",
       "      <th>URL</th>\n",
       "    </tr>\n",
       "  </thead>\n",
       "  <tbody>\n",
       "    <tr>\n",
       "      <th>0</th>\n",
       "      <td>Fed official says weak data caused by weather,...</td>\n",
       "      <td>Los Angeles Times</td>\n",
       "      <td>1394470370698</td>\n",
       "      <td>http://www.latimes.com/business/money/la-fi-mo...</td>\n",
       "    </tr>\n",
       "    <tr>\n",
       "      <th>1</th>\n",
       "      <td>Fed's Charles Plosser sees high bar for change...</td>\n",
       "      <td>Livemint</td>\n",
       "      <td>1394470371207</td>\n",
       "      <td>http://www.livemint.com/Politics/H2EvwJSK2VE6O...</td>\n",
       "    </tr>\n",
       "    <tr>\n",
       "      <th>2</th>\n",
       "      <td>US open: Stocks fall after Fed official hints ...</td>\n",
       "      <td>IFA Magazine</td>\n",
       "      <td>1394470371550</td>\n",
       "      <td>http://www.ifamagazine.com/news/us-open-stocks...</td>\n",
       "    </tr>\n",
       "    <tr>\n",
       "      <th>3</th>\n",
       "      <td>Fed risks falling 'behind the curve', Charles ...</td>\n",
       "      <td>IFA Magazine</td>\n",
       "      <td>1394470371793</td>\n",
       "      <td>http://www.ifamagazine.com/news/fed-risks-fall...</td>\n",
       "    </tr>\n",
       "    <tr>\n",
       "      <th>4</th>\n",
       "      <td>Fed's Plosser: Nasty Weather Has Curbed Job Gr...</td>\n",
       "      <td>Moneynews</td>\n",
       "      <td>1394470372027</td>\n",
       "      <td>http://www.moneynews.com/Economy/federal-reser...</td>\n",
       "    </tr>\n",
       "  </tbody>\n",
       "</table>\n",
       "</div>"
      ],
      "text/plain": [
       "                                               TITLE          PUBLISHER  \\\n",
       "0  Fed official says weak data caused by weather,...  Los Angeles Times   \n",
       "1  Fed's Charles Plosser sees high bar for change...           Livemint   \n",
       "2  US open: Stocks fall after Fed official hints ...       IFA Magazine   \n",
       "3  Fed risks falling 'behind the curve', Charles ...       IFA Magazine   \n",
       "4  Fed's Plosser: Nasty Weather Has Curbed Job Gr...          Moneynews   \n",
       "\n",
       "       TIMESTAMP                                                URL  \n",
       "0  1394470370698  http://www.latimes.com/business/money/la-fi-mo...  \n",
       "1  1394470371207  http://www.livemint.com/Politics/H2EvwJSK2VE6O...  \n",
       "2  1394470371550  http://www.ifamagazine.com/news/us-open-stocks...  \n",
       "3  1394470371793  http://www.ifamagazine.com/news/fed-risks-fall...  \n",
       "4  1394470372027  http://www.moneynews.com/Economy/federal-reser...  "
      ]
     },
     "execution_count": 8,
     "metadata": {},
     "output_type": "execute_result"
    }
   ],
   "source": [
    "df_news = pd.read_csv(\"../data/business-news.csv.gz\")\n",
    "df_news.head()"
   ]
  },
  {
   "cell_type": "markdown",
   "metadata": {},
   "source": [
    "### 2. Do the usual sense checking of the dataset\n",
    "\n",
    "- how many rows are there?\n",
    "- are there missing values?\n",
    "- what are the data types?"
   ]
  },
  {
   "cell_type": "code",
   "execution_count": 9,
   "metadata": {},
   "outputs": [
    {
     "data": {
      "text/plain": [
       "(115967, 4)"
      ]
     },
     "execution_count": 9,
     "metadata": {},
     "output_type": "execute_result"
    }
   ],
   "source": [
    "df_news.shape"
   ]
  },
  {
   "cell_type": "code",
   "execution_count": 10,
   "metadata": {},
   "outputs": [
    {
     "data": {
      "text/plain": [
       "TITLE        0\n",
       "PUBLISHER    1\n",
       "TIMESTAMP    0\n",
       "URL          0\n",
       "dtype: int64"
      ]
     },
     "execution_count": 10,
     "metadata": {},
     "output_type": "execute_result"
    }
   ],
   "source": [
    "df_news.isnull().sum()"
   ]
  },
  {
   "cell_type": "code",
   "execution_count": 11,
   "metadata": {},
   "outputs": [
    {
     "data": {
      "text/html": [
       "<div>\n",
       "<style scoped>\n",
       "    .dataframe tbody tr th:only-of-type {\n",
       "        vertical-align: middle;\n",
       "    }\n",
       "\n",
       "    .dataframe tbody tr th {\n",
       "        vertical-align: top;\n",
       "    }\n",
       "\n",
       "    .dataframe thead th {\n",
       "        text-align: right;\n",
       "    }\n",
       "</style>\n",
       "<table border=\"1\" class=\"dataframe\">\n",
       "  <thead>\n",
       "    <tr style=\"text-align: right;\">\n",
       "      <th></th>\n",
       "      <th>TITLE</th>\n",
       "      <th>PUBLISHER</th>\n",
       "      <th>TIMESTAMP</th>\n",
       "      <th>URL</th>\n",
       "    </tr>\n",
       "  </thead>\n",
       "  <tbody>\n",
       "    <tr>\n",
       "      <th>1209</th>\n",
       "      <td>Federal Prosecutors Want Cash From Denver Pot ...</td>\n",
       "      <td>NaN</td>\n",
       "      <td>1394565833004</td>\n",
       "      <td>http://denver.cbslocal.com/2014/03/10/federal-...</td>\n",
       "    </tr>\n",
       "  </tbody>\n",
       "</table>\n",
       "</div>"
      ],
      "text/plain": [
       "                                                  TITLE PUBLISHER  \\\n",
       "1209  Federal Prosecutors Want Cash From Denver Pot ...       NaN   \n",
       "\n",
       "          TIMESTAMP                                                URL  \n",
       "1209  1394565833004  http://denver.cbslocal.com/2014/03/10/federal-...  "
      ]
     },
     "execution_count": 11,
     "metadata": {},
     "output_type": "execute_result"
    }
   ],
   "source": [
    "df_news[df_news[\"PUBLISHER\"].isnull()]"
   ]
  },
  {
   "cell_type": "markdown",
   "metadata": {},
   "source": [
    "### 3. Convert the \"timestamp\" column to a date type\n",
    "\n",
    "Have a read of [the data documentation](http://archive.ics.uci.edu/ml/datasets/News+Aggregator) on the UCI ML repository site to see what format the column is currently in (if it's not a format you've come across before)."
   ]
  },
  {
   "cell_type": "code",
   "execution_count": 12,
   "metadata": {},
   "outputs": [
    {
     "data": {
      "text/html": [
       "<div>\n",
       "<style scoped>\n",
       "    .dataframe tbody tr th:only-of-type {\n",
       "        vertical-align: middle;\n",
       "    }\n",
       "\n",
       "    .dataframe tbody tr th {\n",
       "        vertical-align: top;\n",
       "    }\n",
       "\n",
       "    .dataframe thead th {\n",
       "        text-align: right;\n",
       "    }\n",
       "</style>\n",
       "<table border=\"1\" class=\"dataframe\">\n",
       "  <thead>\n",
       "    <tr style=\"text-align: right;\">\n",
       "      <th></th>\n",
       "      <th>TITLE</th>\n",
       "      <th>PUBLISHER</th>\n",
       "      <th>TIMESTAMP</th>\n",
       "      <th>URL</th>\n",
       "      <th>date</th>\n",
       "    </tr>\n",
       "  </thead>\n",
       "  <tbody>\n",
       "    <tr>\n",
       "      <th>0</th>\n",
       "      <td>Fed official says weak data caused by weather,...</td>\n",
       "      <td>Los Angeles Times</td>\n",
       "      <td>1394470370698</td>\n",
       "      <td>http://www.latimes.com/business/money/la-fi-mo...</td>\n",
       "      <td>2014-03-10</td>\n",
       "    </tr>\n",
       "    <tr>\n",
       "      <th>1</th>\n",
       "      <td>Fed's Charles Plosser sees high bar for change...</td>\n",
       "      <td>Livemint</td>\n",
       "      <td>1394470371207</td>\n",
       "      <td>http://www.livemint.com/Politics/H2EvwJSK2VE6O...</td>\n",
       "      <td>2014-03-10</td>\n",
       "    </tr>\n",
       "    <tr>\n",
       "      <th>2</th>\n",
       "      <td>US open: Stocks fall after Fed official hints ...</td>\n",
       "      <td>IFA Magazine</td>\n",
       "      <td>1394470371550</td>\n",
       "      <td>http://www.ifamagazine.com/news/us-open-stocks...</td>\n",
       "      <td>2014-03-10</td>\n",
       "    </tr>\n",
       "    <tr>\n",
       "      <th>3</th>\n",
       "      <td>Fed risks falling 'behind the curve', Charles ...</td>\n",
       "      <td>IFA Magazine</td>\n",
       "      <td>1394470371793</td>\n",
       "      <td>http://www.ifamagazine.com/news/fed-risks-fall...</td>\n",
       "      <td>2014-03-10</td>\n",
       "    </tr>\n",
       "    <tr>\n",
       "      <th>4</th>\n",
       "      <td>Fed's Plosser: Nasty Weather Has Curbed Job Gr...</td>\n",
       "      <td>Moneynews</td>\n",
       "      <td>1394470372027</td>\n",
       "      <td>http://www.moneynews.com/Economy/federal-reser...</td>\n",
       "      <td>2014-03-10</td>\n",
       "    </tr>\n",
       "  </tbody>\n",
       "</table>\n",
       "</div>"
      ],
      "text/plain": [
       "                                               TITLE          PUBLISHER  \\\n",
       "0  Fed official says weak data caused by weather,...  Los Angeles Times   \n",
       "1  Fed's Charles Plosser sees high bar for change...           Livemint   \n",
       "2  US open: Stocks fall after Fed official hints ...       IFA Magazine   \n",
       "3  Fed risks falling 'behind the curve', Charles ...       IFA Magazine   \n",
       "4  Fed's Plosser: Nasty Weather Has Curbed Job Gr...          Moneynews   \n",
       "\n",
       "       TIMESTAMP                                                URL       date  \n",
       "0  1394470370698  http://www.latimes.com/business/money/la-fi-mo... 2014-03-10  \n",
       "1  1394470371207  http://www.livemint.com/Politics/H2EvwJSK2VE6O... 2014-03-10  \n",
       "2  1394470371550  http://www.ifamagazine.com/news/us-open-stocks... 2014-03-10  \n",
       "3  1394470371793  http://www.ifamagazine.com/news/fed-risks-fall... 2014-03-10  \n",
       "4  1394470372027  http://www.moneynews.com/Economy/federal-reser... 2014-03-10  "
      ]
     },
     "execution_count": 12,
     "metadata": {},
     "output_type": "execute_result"
    }
   ],
   "source": [
    "# convert to datetime but remove time (not interested in the time at this stage)\n",
    "df_news[\"date\"] = pd.to_datetime(df_news[\"TIMESTAMP\"], unit=\"ms\").dt.date\n",
    "\n",
    "# extracting just the date makes a string column so re-cast as date\n",
    "df_news[\"date\"] = pd.to_datetime(df_news[\"date\"])\n",
    "\n",
    "df_news.head()"
   ]
  },
  {
   "cell_type": "markdown",
   "metadata": {},
   "source": [
    "### 4. Sanity check your date column by looking at what time period it covers (should be dates within 2014)"
   ]
  },
  {
   "cell_type": "code",
   "execution_count": 13,
   "metadata": {},
   "outputs": [
    {
     "data": {
      "text/plain": [
       "min   2014-03-10\n",
       "max   2014-08-28\n",
       "Name: date, dtype: datetime64[ns]"
      ]
     },
     "execution_count": 13,
     "metadata": {},
     "output_type": "execute_result"
    }
   ],
   "source": [
    "df_news[\"date\"].agg([\"min\", \"max\"])"
   ]
  },
  {
   "cell_type": "markdown",
   "metadata": {},
   "source": [
    "# Part 3 - Merging the datasets\n",
    "\n",
    "Now it's time to combine the two datasets.\n",
    "\n",
    "We want to make sure the dataset accurately reflects the data generating process, so join the news headlines with the interest rates making sure that the date for the headlines is the day *before* the interest rates. We therefore assume that any effect of what's happening in the news takes a day to happen. You can always tweak this assumption later!\n",
    "\n",
    "### 1. Create a column in your news dataset called \"next day\" to store the date + 1 day\n",
    "\n",
    "*Hint: the `datetime` library has a section called `timedelta` that will help!*"
   ]
  },
  {
   "cell_type": "code",
   "execution_count": 14,
   "metadata": {},
   "outputs": [
    {
     "data": {
      "text/html": [
       "<div>\n",
       "<style scoped>\n",
       "    .dataframe tbody tr th:only-of-type {\n",
       "        vertical-align: middle;\n",
       "    }\n",
       "\n",
       "    .dataframe tbody tr th {\n",
       "        vertical-align: top;\n",
       "    }\n",
       "\n",
       "    .dataframe thead th {\n",
       "        text-align: right;\n",
       "    }\n",
       "</style>\n",
       "<table border=\"1\" class=\"dataframe\">\n",
       "  <thead>\n",
       "    <tr style=\"text-align: right;\">\n",
       "      <th></th>\n",
       "      <th>date</th>\n",
       "      <th>next_day</th>\n",
       "    </tr>\n",
       "  </thead>\n",
       "  <tbody>\n",
       "    <tr>\n",
       "      <th>0</th>\n",
       "      <td>2014-03-10</td>\n",
       "      <td>2014-03-11</td>\n",
       "    </tr>\n",
       "    <tr>\n",
       "      <th>1</th>\n",
       "      <td>2014-03-10</td>\n",
       "      <td>2014-03-11</td>\n",
       "    </tr>\n",
       "    <tr>\n",
       "      <th>2</th>\n",
       "      <td>2014-03-10</td>\n",
       "      <td>2014-03-11</td>\n",
       "    </tr>\n",
       "    <tr>\n",
       "      <th>3</th>\n",
       "      <td>2014-03-10</td>\n",
       "      <td>2014-03-11</td>\n",
       "    </tr>\n",
       "    <tr>\n",
       "      <th>4</th>\n",
       "      <td>2014-03-10</td>\n",
       "      <td>2014-03-11</td>\n",
       "    </tr>\n",
       "  </tbody>\n",
       "</table>\n",
       "</div>"
      ],
      "text/plain": [
       "        date   next_day\n",
       "0 2014-03-10 2014-03-11\n",
       "1 2014-03-10 2014-03-11\n",
       "2 2014-03-10 2014-03-11\n",
       "3 2014-03-10 2014-03-11\n",
       "4 2014-03-10 2014-03-11"
      ]
     },
     "execution_count": 14,
     "metadata": {},
     "output_type": "execute_result"
    }
   ],
   "source": [
    "import datetime\n",
    "\n",
    "df_news[\"next_day\"] = df_news[\"date\"] + datetime.timedelta(days=1)\n",
    "df_news[[\"date\", \"next_day\"]].head()"
   ]
  },
  {
   "cell_type": "markdown",
   "metadata": {},
   "source": [
    "### 2. Merge the two datasets\n",
    "\n",
    "Join the rates data to the news data. Remember to join on the \"next day\" column instead of the original date in your news dataset.\n",
    "\n",
    "After joining ensure the dataset has the same number of rows as your news dataset (to verify the join)."
   ]
  },
  {
   "cell_type": "code",
   "execution_count": 15,
   "metadata": {},
   "outputs": [
    {
     "name": "stdout",
     "output_type": "stream",
     "text": [
      "(115967, 6)\n",
      "(115967, 8)\n"
     ]
    },
    {
     "data": {
      "text/html": [
       "<div>\n",
       "<style scoped>\n",
       "    .dataframe tbody tr th:only-of-type {\n",
       "        vertical-align: middle;\n",
       "    }\n",
       "\n",
       "    .dataframe tbody tr th {\n",
       "        vertical-align: top;\n",
       "    }\n",
       "\n",
       "    .dataframe thead th {\n",
       "        text-align: right;\n",
       "    }\n",
       "</style>\n",
       "<table border=\"1\" class=\"dataframe\">\n",
       "  <thead>\n",
       "    <tr style=\"text-align: right;\">\n",
       "      <th></th>\n",
       "      <th>TITLE</th>\n",
       "      <th>PUBLISHER</th>\n",
       "      <th>TIMESTAMP</th>\n",
       "      <th>URL</th>\n",
       "      <th>next_day</th>\n",
       "      <th>date</th>\n",
       "      <th>interest_rate</th>\n",
       "      <th>interest_rate_change</th>\n",
       "    </tr>\n",
       "  </thead>\n",
       "  <tbody>\n",
       "    <tr>\n",
       "      <th>0</th>\n",
       "      <td>Fed official says weak data caused by weather,...</td>\n",
       "      <td>Los Angeles Times</td>\n",
       "      <td>1394470370698</td>\n",
       "      <td>http://www.latimes.com/business/money/la-fi-mo...</td>\n",
       "      <td>2014-03-11</td>\n",
       "      <td>2014-03-11</td>\n",
       "      <td>0.08</td>\n",
       "      <td>0.0</td>\n",
       "    </tr>\n",
       "    <tr>\n",
       "      <th>1</th>\n",
       "      <td>Fed's Charles Plosser sees high bar for change...</td>\n",
       "      <td>Livemint</td>\n",
       "      <td>1394470371207</td>\n",
       "      <td>http://www.livemint.com/Politics/H2EvwJSK2VE6O...</td>\n",
       "      <td>2014-03-11</td>\n",
       "      <td>2014-03-11</td>\n",
       "      <td>0.08</td>\n",
       "      <td>0.0</td>\n",
       "    </tr>\n",
       "    <tr>\n",
       "      <th>2</th>\n",
       "      <td>US open: Stocks fall after Fed official hints ...</td>\n",
       "      <td>IFA Magazine</td>\n",
       "      <td>1394470371550</td>\n",
       "      <td>http://www.ifamagazine.com/news/us-open-stocks...</td>\n",
       "      <td>2014-03-11</td>\n",
       "      <td>2014-03-11</td>\n",
       "      <td>0.08</td>\n",
       "      <td>0.0</td>\n",
       "    </tr>\n",
       "    <tr>\n",
       "      <th>3</th>\n",
       "      <td>Fed risks falling 'behind the curve', Charles ...</td>\n",
       "      <td>IFA Magazine</td>\n",
       "      <td>1394470371793</td>\n",
       "      <td>http://www.ifamagazine.com/news/fed-risks-fall...</td>\n",
       "      <td>2014-03-11</td>\n",
       "      <td>2014-03-11</td>\n",
       "      <td>0.08</td>\n",
       "      <td>0.0</td>\n",
       "    </tr>\n",
       "    <tr>\n",
       "      <th>4</th>\n",
       "      <td>Fed's Plosser: Nasty Weather Has Curbed Job Gr...</td>\n",
       "      <td>Moneynews</td>\n",
       "      <td>1394470372027</td>\n",
       "      <td>http://www.moneynews.com/Economy/federal-reser...</td>\n",
       "      <td>2014-03-11</td>\n",
       "      <td>2014-03-11</td>\n",
       "      <td>0.08</td>\n",
       "      <td>0.0</td>\n",
       "    </tr>\n",
       "  </tbody>\n",
       "</table>\n",
       "</div>"
      ],
      "text/plain": [
       "                                               TITLE          PUBLISHER  \\\n",
       "0  Fed official says weak data caused by weather,...  Los Angeles Times   \n",
       "1  Fed's Charles Plosser sees high bar for change...           Livemint   \n",
       "2  US open: Stocks fall after Fed official hints ...       IFA Magazine   \n",
       "3  Fed risks falling 'behind the curve', Charles ...       IFA Magazine   \n",
       "4  Fed's Plosser: Nasty Weather Has Curbed Job Gr...          Moneynews   \n",
       "\n",
       "       TIMESTAMP                                                URL  \\\n",
       "0  1394470370698  http://www.latimes.com/business/money/la-fi-mo...   \n",
       "1  1394470371207  http://www.livemint.com/Politics/H2EvwJSK2VE6O...   \n",
       "2  1394470371550  http://www.ifamagazine.com/news/us-open-stocks...   \n",
       "3  1394470371793  http://www.ifamagazine.com/news/fed-risks-fall...   \n",
       "4  1394470372027  http://www.moneynews.com/Economy/federal-reser...   \n",
       "\n",
       "    next_day       date  interest_rate  interest_rate_change  \n",
       "0 2014-03-11 2014-03-11           0.08                   0.0  \n",
       "1 2014-03-11 2014-03-11           0.08                   0.0  \n",
       "2 2014-03-11 2014-03-11           0.08                   0.0  \n",
       "3 2014-03-11 2014-03-11           0.08                   0.0  \n",
       "4 2014-03-11 2014-03-11           0.08                   0.0  "
      ]
     },
     "execution_count": 15,
     "metadata": {},
     "output_type": "execute_result"
    }
   ],
   "source": [
    "print(df_news.shape)\n",
    "\n",
    "df_merged = (df_news\n",
    "                 .drop(\"date\", axis=1) # to avoid duplication\n",
    "                 .merge(df_rates.rename(columns={\"rate\": \"interest_rate\",\n",
    "                                                 \"change\": \"interest_rate_change\"}),\n",
    "                        left_on=\"next_day\",\n",
    "                        right_on=\"date\"))\n",
    "print(df_merged.shape)\n",
    "df_merged.head()"
   ]
  },
  {
   "cell_type": "markdown",
   "metadata": {},
   "source": [
    "# Part 3 - Feature creation"
   ]
  },
  {
   "cell_type": "markdown",
   "metadata": {},
   "source": [
    "### 1. Separate your dataset into training and test sets\n",
    "\n",
    "Your training and test features should only contain the titles for now, and your training/test targets are your interest rate changes.\n",
    "\n",
    "We want to do this *before* creating text features, because our vocabulary should come from our **training set only**.\n",
    "\n",
    "Remember, the test set is information you haven't seen yet, so words in those headlines shouldn't count!"
   ]
  },
  {
   "cell_type": "code",
   "execution_count": 16,
   "metadata": {},
   "outputs": [
    {
     "name": "stdout",
     "output_type": "stream",
     "text": [
      "81176 81176 34791 34791\n"
     ]
    }
   ],
   "source": [
    "from sklearn.model_selection import train_test_split\n",
    "\n",
    "X_train, X_test, y_train, y_test = train_test_split(df_merged[\"TITLE\"], df_merged[\"interest_rate_change\"],\n",
    "                                                    test_size=0.3,\n",
    "                                                    random_state=42)\n",
    "print(len(X_train), len(y_train), len(X_test), len(y_test))"
   ]
  },
  {
   "cell_type": "markdown",
   "metadata": {},
   "source": [
    "### 2. Create text features using the `TfidfVectorizer`\n",
    "\n",
    "Now we want to create features that represent the TF-IDF scores of the `N` most common (non-stopword) words.\n",
    "\n",
    "Try `N`=100 for now.\n",
    "\n",
    "Use scikit-learn's `TfidfVectorizer` to create a document term matrix of 100 columns, one row per news headline, using the **training set only**."
   ]
  },
  {
   "cell_type": "code",
   "execution_count": 17,
   "metadata": {},
   "outputs": [],
   "source": [
    "from sklearn.feature_extraction.text import TfidfVectorizer\n",
    "\n",
    "tfidf_vec = TfidfVectorizer(stop_words=\"english\",\n",
    "                            min_df=2, # ignore words that only appear once\n",
    "                            max_features=100)\n",
    "\n",
    "X_train_transformed = tfidf_vec.fit_transform(X_train)"
   ]
  },
  {
   "cell_type": "markdown",
   "metadata": {},
   "source": [
    "### 2. Examine the vocabulary in your `TfidfVectorizer`\n",
    "\n",
    "What are the top 100 words it picked out?"
   ]
  },
  {
   "cell_type": "code",
   "execution_count": 18,
   "metadata": {
    "scrolled": true
   },
   "outputs": [
    {
     "data": {
      "text/plain": [
       "{'week': 96,\n",
       " 'airlines': 2,\n",
       " 'malaysia': 48,\n",
       " 'search': 80,\n",
       " 'missing': 55,\n",
       " 'russia': 77,\n",
       " 'home': 39,\n",
       " 'mh370': 53,\n",
       " 'plane': 65,\n",
       " 'new': 59,\n",
       " 'wall': 95,\n",
       " 'record': 73,\n",
       " 'data': 16,\n",
       " 'month': 56,\n",
       " 'low': 46,\n",
       " 'company': 15,\n",
       " 'million': 54,\n",
       " 'day': 17,\n",
       " 'world': 97,\n",
       " 'stocks': 83,\n",
       " 'time': 87,\n",
       " 'ukraine': 92,\n",
       " 'higher': 38,\n",
       " 'ahead': 1,\n",
       " 'profit': 68,\n",
       " 'business': 10,\n",
       " 'rises': 76,\n",
       " 'american': 5,\n",
       " 'global': 32,\n",
       " 'markets': 51,\n",
       " 'shares': 81,\n",
       " 'dollar': 19,\n",
       " 'jobs': 43,\n",
       " 'report': 74,\n",
       " 'june': 44,\n",
       " 'target': 85,\n",
       " 'sales': 78,\n",
       " 'price': 66,\n",
       " 'health': 36,\n",
       " 'gas': 31,\n",
       " 'oil': 61,\n",
       " 'ecb': 23,\n",
       " 'earnings': 22,\n",
       " 'news': 60,\n",
       " 'lower': 47,\n",
       " 'prices': 67,\n",
       " 'rise': 75,\n",
       " 'percent': 63,\n",
       " 'march': 49,\n",
       " 'gold': 34,\n",
       " 'says': 79,\n",
       " 'economy': 24,\n",
       " 'street': 84,\n",
       " 'fed': 29,\n",
       " 'rates': 72,\n",
       " 'pfizer': 64,\n",
       " 'bid': 7,\n",
       " 'growth': 35,\n",
       " 'amazon': 4,\n",
       " 'q1': 69,\n",
       " 'billion': 9,\n",
       " 'pay': 62,\n",
       " 'year': 98,\n",
       " 'stock': 82,\n",
       " 'deal': 18,\n",
       " 'alibaba': 3,\n",
       " 'ipo': 41,\n",
       " 'euro': 25,\n",
       " 'buy': 11,\n",
       " '2014': 0,\n",
       " 'uk': 91,\n",
       " 'china': 13,\n",
       " 'quarter': 70,\n",
       " 'ceo': 12,\n",
       " 'big': 8,\n",
       " 'iraq': 42,\n",
       " 'market': 50,\n",
       " 'today': 88,\n",
       " 'twitter': 90,\n",
       " 'bank': 6,\n",
       " 'rate': 71,\n",
       " 'near': 58,\n",
       " 'inflation': 40,\n",
       " 'falls': 28,\n",
       " 'trading': 89,\n",
       " 'drop': 21,\n",
       " 'fall': 27,\n",
       " 'gm': 33,\n",
       " 'update': 94,\n",
       " 'yellen': 99,\n",
       " 'gains': 30,\n",
       " 'mortgage': 57,\n",
       " 'dow': 20,\n",
       " 'mcdonald': 52,\n",
       " 'european': 26,\n",
       " 'high': 37,\n",
       " 'chinese': 14,\n",
       " 'unemployment': 93,\n",
       " 'tax': 86,\n",
       " 'king': 45}"
      ]
     },
     "execution_count": 18,
     "metadata": {},
     "output_type": "execute_result"
    }
   ],
   "source": [
    "tfidf_vec.vocabulary_"
   ]
  },
  {
   "cell_type": "code",
   "execution_count": 19,
   "metadata": {},
   "outputs": [
    {
     "data": {
      "text/plain": [
       "<81176x100 sparse matrix of type '<class 'numpy.float64'>'\n",
       "\twith 119633 stored elements in Compressed Sparse Row format>"
      ]
     },
     "execution_count": 19,
     "metadata": {},
     "output_type": "execute_result"
    }
   ],
   "source": [
    "X_train_transformed"
   ]
  },
  {
   "cell_type": "markdown",
   "metadata": {},
   "source": [
    "### 3. Transform your test set using your trained vectorizer\n",
    "\n",
    "You should now have a 100-column training set - each column representing a word, and each value representing the TF-IDF score of that word in each title.\n",
    "\n",
    "Use your trained vectorizer object to create a 100-column test set using the set-aside test set titles."
   ]
  },
  {
   "cell_type": "code",
   "execution_count": 20,
   "metadata": {},
   "outputs": [
    {
     "data": {
      "text/plain": [
       "<34791x100 sparse matrix of type '<class 'numpy.float64'>'\n",
       "\twith 51185 stored elements in Compressed Sparse Row format>"
      ]
     },
     "execution_count": 20,
     "metadata": {},
     "output_type": "execute_result"
    }
   ],
   "source": [
    "X_test_transformed = tfidf_vec.transform(X_test)\n",
    "X_test_transformed"
   ]
  },
  {
   "cell_type": "markdown",
   "metadata": {},
   "source": [
    "### 4. Rename columns in the training set\n",
    "\n",
    "Use your vectorizer's `vocabulary_` dictionary to get your keys (they need to be sorted alphabetically to correspond to the document-term matrix).\n",
    "\n",
    "Your training dataset should look something like this:\n",
    "\n",
    "| ahead | airlines | american | ... |\n",
    "|---------|---------|------|------|\n",
    "| 0.45 | 0.3 | `NaN` | ... |"
   ]
  },
  {
   "cell_type": "code",
   "execution_count": 21,
   "metadata": {},
   "outputs": [
    {
     "data": {
      "text/html": [
       "<div>\n",
       "<style scoped>\n",
       "    .dataframe tbody tr th:only-of-type {\n",
       "        vertical-align: middle;\n",
       "    }\n",
       "\n",
       "    .dataframe tbody tr th {\n",
       "        vertical-align: top;\n",
       "    }\n",
       "\n",
       "    .dataframe thead th {\n",
       "        text-align: right;\n",
       "    }\n",
       "</style>\n",
       "<table border=\"1\" class=\"dataframe\">\n",
       "  <thead>\n",
       "    <tr style=\"text-align: right;\">\n",
       "      <th></th>\n",
       "      <th>2014</th>\n",
       "      <th>ahead</th>\n",
       "      <th>airlines</th>\n",
       "      <th>alibaba</th>\n",
       "      <th>amazon</th>\n",
       "      <th>american</th>\n",
       "      <th>bank</th>\n",
       "      <th>bid</th>\n",
       "      <th>big</th>\n",
       "      <th>billion</th>\n",
       "      <th>...</th>\n",
       "      <th>twitter</th>\n",
       "      <th>uk</th>\n",
       "      <th>ukraine</th>\n",
       "      <th>unemployment</th>\n",
       "      <th>update</th>\n",
       "      <th>wall</th>\n",
       "      <th>week</th>\n",
       "      <th>world</th>\n",
       "      <th>year</th>\n",
       "      <th>yellen</th>\n",
       "    </tr>\n",
       "  </thead>\n",
       "  <tbody>\n",
       "    <tr>\n",
       "      <th>0</th>\n",
       "      <td>0.0</td>\n",
       "      <td>0.0</td>\n",
       "      <td>0.0</td>\n",
       "      <td>0.0</td>\n",
       "      <td>0.0</td>\n",
       "      <td>0.0</td>\n",
       "      <td>0.0</td>\n",
       "      <td>0.0</td>\n",
       "      <td>0.0</td>\n",
       "      <td>0.0</td>\n",
       "      <td>...</td>\n",
       "      <td>0.0</td>\n",
       "      <td>0.0</td>\n",
       "      <td>0.0</td>\n",
       "      <td>0.0</td>\n",
       "      <td>0.0</td>\n",
       "      <td>0.0</td>\n",
       "      <td>1.0</td>\n",
       "      <td>0.0</td>\n",
       "      <td>0.0</td>\n",
       "      <td>0.0</td>\n",
       "    </tr>\n",
       "    <tr>\n",
       "      <th>1</th>\n",
       "      <td>0.0</td>\n",
       "      <td>0.0</td>\n",
       "      <td>0.0</td>\n",
       "      <td>0.0</td>\n",
       "      <td>0.0</td>\n",
       "      <td>0.0</td>\n",
       "      <td>0.0</td>\n",
       "      <td>0.0</td>\n",
       "      <td>0.0</td>\n",
       "      <td>0.0</td>\n",
       "      <td>...</td>\n",
       "      <td>0.0</td>\n",
       "      <td>0.0</td>\n",
       "      <td>0.0</td>\n",
       "      <td>0.0</td>\n",
       "      <td>0.0</td>\n",
       "      <td>0.0</td>\n",
       "      <td>0.0</td>\n",
       "      <td>0.0</td>\n",
       "      <td>0.0</td>\n",
       "      <td>0.0</td>\n",
       "    </tr>\n",
       "    <tr>\n",
       "      <th>2</th>\n",
       "      <td>0.0</td>\n",
       "      <td>0.0</td>\n",
       "      <td>1.0</td>\n",
       "      <td>0.0</td>\n",
       "      <td>0.0</td>\n",
       "      <td>0.0</td>\n",
       "      <td>0.0</td>\n",
       "      <td>0.0</td>\n",
       "      <td>0.0</td>\n",
       "      <td>0.0</td>\n",
       "      <td>...</td>\n",
       "      <td>0.0</td>\n",
       "      <td>0.0</td>\n",
       "      <td>0.0</td>\n",
       "      <td>0.0</td>\n",
       "      <td>0.0</td>\n",
       "      <td>0.0</td>\n",
       "      <td>0.0</td>\n",
       "      <td>0.0</td>\n",
       "      <td>0.0</td>\n",
       "      <td>0.0</td>\n",
       "    </tr>\n",
       "    <tr>\n",
       "      <th>3</th>\n",
       "      <td>0.0</td>\n",
       "      <td>0.0</td>\n",
       "      <td>0.0</td>\n",
       "      <td>0.0</td>\n",
       "      <td>0.0</td>\n",
       "      <td>0.0</td>\n",
       "      <td>0.0</td>\n",
       "      <td>0.0</td>\n",
       "      <td>0.0</td>\n",
       "      <td>0.0</td>\n",
       "      <td>...</td>\n",
       "      <td>0.0</td>\n",
       "      <td>0.0</td>\n",
       "      <td>0.0</td>\n",
       "      <td>0.0</td>\n",
       "      <td>0.0</td>\n",
       "      <td>0.0</td>\n",
       "      <td>0.0</td>\n",
       "      <td>0.0</td>\n",
       "      <td>0.0</td>\n",
       "      <td>0.0</td>\n",
       "    </tr>\n",
       "    <tr>\n",
       "      <th>4</th>\n",
       "      <td>0.0</td>\n",
       "      <td>0.0</td>\n",
       "      <td>0.0</td>\n",
       "      <td>0.0</td>\n",
       "      <td>0.0</td>\n",
       "      <td>0.0</td>\n",
       "      <td>0.0</td>\n",
       "      <td>0.0</td>\n",
       "      <td>0.0</td>\n",
       "      <td>0.0</td>\n",
       "      <td>...</td>\n",
       "      <td>0.0</td>\n",
       "      <td>0.0</td>\n",
       "      <td>0.0</td>\n",
       "      <td>0.0</td>\n",
       "      <td>0.0</td>\n",
       "      <td>0.0</td>\n",
       "      <td>0.0</td>\n",
       "      <td>0.0</td>\n",
       "      <td>0.0</td>\n",
       "      <td>0.0</td>\n",
       "    </tr>\n",
       "  </tbody>\n",
       "</table>\n",
       "<p>5 rows × 100 columns</p>\n",
       "</div>"
      ],
      "text/plain": [
       "   2014  ahead  airlines  alibaba  amazon  american  bank  bid  big  billion  \\\n",
       "0   0.0    0.0       0.0      0.0     0.0       0.0   0.0  0.0  0.0      0.0   \n",
       "1   0.0    0.0       0.0      0.0     0.0       0.0   0.0  0.0  0.0      0.0   \n",
       "2   0.0    0.0       1.0      0.0     0.0       0.0   0.0  0.0  0.0      0.0   \n",
       "3   0.0    0.0       0.0      0.0     0.0       0.0   0.0  0.0  0.0      0.0   \n",
       "4   0.0    0.0       0.0      0.0     0.0       0.0   0.0  0.0  0.0      0.0   \n",
       "\n",
       "   ...  twitter   uk  ukraine  unemployment  update  wall  week  world  year  \\\n",
       "0  ...      0.0  0.0      0.0           0.0     0.0   0.0   1.0    0.0   0.0   \n",
       "1  ...      0.0  0.0      0.0           0.0     0.0   0.0   0.0    0.0   0.0   \n",
       "2  ...      0.0  0.0      0.0           0.0     0.0   0.0   0.0    0.0   0.0   \n",
       "3  ...      0.0  0.0      0.0           0.0     0.0   0.0   0.0    0.0   0.0   \n",
       "4  ...      0.0  0.0      0.0           0.0     0.0   0.0   0.0    0.0   0.0   \n",
       "\n",
       "   yellen  \n",
       "0     0.0  \n",
       "1     0.0  \n",
       "2     0.0  \n",
       "3     0.0  \n",
       "4     0.0  \n",
       "\n",
       "[5 rows x 100 columns]"
      ]
     },
     "execution_count": 21,
     "metadata": {},
     "output_type": "execute_result"
    }
   ],
   "source": [
    "# create a new DataFrame from the underlying values in the vectorizer\n",
    "# and name them after a sorted(!) copy of the vocabulary dictionary's keys\n",
    "X_train_enhanced = pd.DataFrame(X_train_transformed.toarray(), columns=sorted(tfidf_vec.vocabulary_.keys()))\n",
    "X_train_enhanced.head()"
   ]
  },
  {
   "cell_type": "markdown",
   "metadata": {},
   "source": [
    "# Part 5 - Prediction!"
   ]
  },
  {
   "cell_type": "markdown",
   "metadata": {},
   "source": [
    "### 1. Examine your target (in the training set) - what is the distribution (i.e. what is a credible range for predictions)?"
   ]
  },
  {
   "cell_type": "code",
   "execution_count": 22,
   "metadata": {},
   "outputs": [
    {
     "data": {
      "image/png": "[encoded data removed]",
      "text/plain": [
       "<Figure size 432x288 with 1 Axes>"
      ]
     },
     "metadata": {
      "needs_background": "light"
     },
     "output_type": "display_data"
    }
   ],
   "source": [
    "import matplotlib.pyplot as plt\n",
    "%matplotlib inline\n",
    "\n",
    "y_train.round(2).value_counts().sort_index().plot.bar();"
   ]
  },
  {
   "cell_type": "markdown",
   "metadata": {},
   "source": [
    "Values are mostly 0, and all between -0.02 and +0.02"
   ]
  },
  {
   "cell_type": "markdown",
   "metadata": {},
   "source": [
    "### 2. Compare the cross-validated performance of two different prediction models\n",
    "\n",
    "For this you'll need to:\n",
    "\n",
    "- choose the appropriate type of model (is this classification or regression?)\n",
    "- based on the above, come up with an appropriate metric to measure performance\n",
    "- choose two appropriate algorithms to compare with one another\n",
    "- run both models (with cross-validation) and examine your results!"
   ]
  },
  {
   "cell_type": "code",
   "execution_count": 25,
   "metadata": {},
   "outputs": [
    {
     "data": {
      "text/plain": [
       "array([-0.00527064, -0.00535268, -0.00520851, -0.00520652, -0.00530482])"
      ]
     },
     "execution_count": 25,
     "metadata": {},
     "output_type": "execute_result"
    }
   ],
   "source": [
    "# model 1: linear regression\n",
    "from sklearn.linear_model import LinearRegression\n",
    "from sklearn.model_selection import cross_val_score\n",
    "\n",
    "lr = LinearRegression()\n",
    "\n",
    "cross_val_score(lr,\n",
    "                X=X_train_enhanced, # use the 100-column version obviously!\n",
    "                y=y_train,\n",
    "                cv=5,\n",
    "                scoring=\"neg_root_mean_squared_error\")"
   ]
  },
  {
   "cell_type": "markdown",
   "metadata": {},
   "source": [
    "Not bad really, values range from -0.02 to 0.02 so to be 0.005 out on average is OK!"
   ]
  },
  {
   "cell_type": "code",
   "execution_count": 26,
   "metadata": {},
   "outputs": [
    {
     "data": {
      "text/plain": [
       "array([-0.00523966, -0.00518153, -0.00522214])"
      ]
     },
     "execution_count": 26,
     "metadata": {},
     "output_type": "execute_result"
    }
   ],
   "source": [
    "# model 2: random forest\n",
    "from sklearn.ensemble import RandomForestRegressor\n",
    "\n",
    "rf = RandomForestRegressor(n_estimators=11, # random odd number\n",
    "                           min_samples_leaf=10, # don't let trees get TOO out of hand\n",
    "                           random_state=42\n",
    "                          )\n",
    "\n",
    "cross_val_score(rf,\n",
    "                X=X_train_enhanced,\n",
    "                y=y_train,\n",
    "                cv=3,\n",
    "                scoring=\"neg_root_mean_squared_error\")"
   ]
  },
  {
   "cell_type": "markdown",
   "metadata": {},
   "source": [
    "Random forest performs about the same it seems, perhaps a bit better but still with some variance"
   ]
  },
  {
   "cell_type": "markdown",
   "metadata": {},
   "source": [
    "### 3. Compare your models' feature importance - what words are important to predict interest rate changes?"
   ]
  },
  {
   "cell_type": "code",
   "execution_count": 28,
   "metadata": {},
   "outputs": [
    {
     "data": {
      "text/plain": [
       "RandomForestRegressor(bootstrap=True, ccp_alpha=0.0, criterion='mse',\n",
       "                      max_depth=None, max_features='auto', max_leaf_nodes=None,\n",
       "                      max_samples=None, min_impurity_decrease=0.0,\n",
       "                      min_impurity_split=None, min_samples_leaf=10,\n",
       "                      min_samples_split=2, min_weight_fraction_leaf=0.0,\n",
       "                      n_estimators=11, n_jobs=None, oob_score=False,\n",
       "                      random_state=42, verbose=0, warm_start=False)"
      ]
     },
     "execution_count": 28,
     "metadata": {},
     "output_type": "execute_result"
    }
   ],
   "source": [
    "# fit both models\n",
    "lr.fit(X_train_enhanced, y_train)\n",
    "rf.fit(X_train_enhanced, y_train)"
   ]
  },
  {
   "cell_type": "markdown",
   "metadata": {},
   "source": [
    "Feature importance - linear regression\n",
    "\n",
    "Magnitude is important, not the sign, so sort by *absolute* coefficient value"
   ]
  },
  {
   "cell_type": "code",
   "execution_count": 29,
   "metadata": {},
   "outputs": [
    {
     "data": {
      "text/plain": [
       "[(0.004217628413399183, 'mortgage'),\n",
       " (0.003591456065370474, 'yellen'),\n",
       " (0.0018202375266644759, 'unemployment'),\n",
       " (-0.00178388099409326, 'record'),\n",
       " (0.0016767947738263798, 'gas'),\n",
       " (-0.0015995924480447904, 'dow'),\n",
       " (0.001549483146334242, 'gold'),\n",
       " (-0.00138547965185415, 'russia'),\n",
       " (0.0013145630291348748, 'day'),\n",
       " (-0.0013105566655261928, 'month')]"
      ]
     },
     "execution_count": 29,
     "metadata": {},
     "output_type": "execute_result"
    }
   ],
   "source": [
    "sorted(list(zip(lr.coef_, X_train_enhanced.columns)), key=lambda x:abs(x[0]), reverse=True)[:10]"
   ]
  },
  {
   "cell_type": "markdown",
   "metadata": {},
   "source": [
    "Feature importance - random forest"
   ]
  },
  {
   "cell_type": "code",
   "execution_count": 30,
   "metadata": {},
   "outputs": [
    {
     "data": {
      "text/plain": [
       "[(0.04960558732834044, '2014'),\n",
       " (0.04187303370361372, 'yellen'),\n",
       " (0.034030529207146026, 'mortgage'),\n",
       " (0.030441530784646006, 'day'),\n",
       " (0.028500406822555634, 'sales'),\n",
       " (0.027522819222721786, 'march'),\n",
       " (0.02727210079436363, 'rates'),\n",
       " (0.0248235062865124, 'twitter'),\n",
       " (0.023150620543562664, 'bank'),\n",
       " (0.021857902319156436, 'stocks')]"
      ]
     },
     "execution_count": 30,
     "metadata": {},
     "output_type": "execute_result"
    }
   ],
   "source": [
    "sorted(list(zip(rf.feature_importances_, X_train_enhanced.columns)), key=lambda x:x[0], reverse=True)[:10]"
   ]
  },
  {
   "cell_type": "markdown",
   "metadata": {},
   "source": [
    "### 4. Try something to improve one of your models\n",
    "\n",
    "Some ideas:\n",
    "\n",
    "- change the number of features (is more or less than 100 a good idea? This may depend on which words your model thought important)\n",
    "- tune the hyperparameters using grid search\n",
    "- try something more radical and predict the rates themselves, not the changes"
   ]
  },
  {
   "cell_type": "code",
   "execution_count": 31,
   "metadata": {},
   "outputs": [
    {
     "data": {
      "text/plain": [
       "GridSearchCV(cv=3, error_score=nan,\n",
       "             estimator=Lasso(alpha=1.0, copy_X=True, fit_intercept=True,\n",
       "                             max_iter=1000, normalize=False, positive=False,\n",
       "                             precompute=False, random_state=None,\n",
       "                             selection='cyclic', tol=0.0001, warm_start=False),\n",
       "             iid='deprecated', n_jobs=None,\n",
       "             param_grid={'alpha': array([1.e-05, 1.e-04, 1.e-03, 1.e-02, 1.e-01, 1.e+00, 1.e+01, 1.e+02,\n",
       "       1.e+03, 1.e+04, 1.e+05])},\n",
       "             pre_dispatch='2*n_jobs', refit=True, return_train_score=False,\n",
       "             scoring='neg_root_mean_squared_error', verbose=0)"
      ]
     },
     "execution_count": 31,
     "metadata": {},
     "output_type": "execute_result"
    }
   ],
   "source": [
    "# try lasso regularisation\n",
    "# with grid search to find a good regularisation coefficient\n",
    "from sklearn.linear_model import Lasso\n",
    "from sklearn.model_selection import GridSearchCV\n",
    "\n",
    "import numpy as np # for \"logspace\", getting different alpha values in multiples of 10\n",
    "\n",
    "grid = GridSearchCV(estimator=Lasso(),\n",
    "                    param_grid={\"alpha\": np.logspace(-5, 5, 11)},\n",
    "                    cv=3,\n",
    "                    scoring=\"neg_root_mean_squared_error\")\n",
    "\n",
    "grid.fit(X_train_enhanced, y_train)"
   ]
  },
  {
   "cell_type": "code",
   "execution_count": 32,
   "metadata": {},
   "outputs": [
    {
     "data": {
      "text/plain": [
       "-0.00529282468385945"
      ]
     },
     "execution_count": 32,
     "metadata": {},
     "output_type": "execute_result"
    }
   ],
   "source": [
    "grid.best_score_"
   ]
  },
  {
   "cell_type": "code",
   "execution_count": 33,
   "metadata": {},
   "outputs": [
    {
     "data": {
      "text/plain": [
       "{'alpha': 1e-05}"
      ]
     },
     "execution_count": 33,
     "metadata": {},
     "output_type": "execute_result"
    }
   ],
   "source": [
    "grid.best_params_"
   ]
  },
  {
   "cell_type": "markdown",
   "metadata": {},
   "source": [
    "Looks like that hasn't helped, but maybe we have some feature selection as a bonus"
   ]
  },
  {
   "cell_type": "code",
   "execution_count": 34,
   "metadata": {},
   "outputs": [
    {
     "data": {
      "text/plain": [
       "[(0.0021229697672433246, 'mortgage'),\n",
       " (0.0020102165946802664, 'yellen'),\n",
       " (0.0004171223823519581, 'bank'),\n",
       " (0.000369530187707698, 'earnings'),\n",
       " (-0.0003691687157420364, 'amazon'),\n",
       " (-8.805618243374995e-05, 'business'),\n",
       " (5.145904894555951e-05, 'gold'),\n",
       " (3.7424312593287124e-05, 'day'),\n",
       " (1.873108831112949e-05, 'stocks')]"
      ]
     },
     "execution_count": 34,
     "metadata": {},
     "output_type": "execute_result"
    }
   ],
   "source": [
    "feature_importances = list(zip(grid.best_estimator_.coef_, X_train_enhanced.columns))\n",
    "\n",
    "# only look at nonzeros\n",
    "sorted([f for f in feature_importances if f[0] != 0], key=lambda x: abs(x[0]), reverse=True)"
   ]
  },
  {
   "cell_type": "markdown",
   "metadata": {},
   "source": [
    "The important features remain, but we have a model with much fewer features used"
   ]
  },
  {
   "cell_type": "markdown",
   "metadata": {},
   "source": [
    "### 5. Evaluate the best version of your best model on the test set - how did it perform?"
   ]
  },
  {
   "cell_type": "code",
   "execution_count": 35,
   "metadata": {},
   "outputs": [
    {
     "data": {
      "text/plain": [
       "0.005337414185098864"
      ]
     },
     "execution_count": 35,
     "metadata": {},
     "output_type": "execute_result"
    }
   ],
   "source": [
    "from sklearn.metrics import mean_squared_error\n",
    "\n",
    "# not much difference between standard, and regularised LR, but let's pick the lasso model\n",
    "# as it uses fewer features\n",
    "y_test_pred = grid.best_estimator_.predict(X_test_transformed)\n",
    "\n",
    "np.sqrt(mean_squared_error(y_test, y_test_pred))"
   ]
  }
 ],
 "metadata": {
  "kernelspec": {
   "display_name": "Python 3",
   "language": "python",
   "name": "python3"
  },
  "language_info": {
   "codemirror_mode": {
    "name": "ipython",
    "version": 3
   },
   "file_extension": ".py",
   "mimetype": "text/x-python",
   "name": "python",
   "nbconvert_exporter": "python",
   "pygments_lexer": "ipython3",
   "version": "3.7.6"
  }
 },
 "nbformat": 4,
 "nbformat_minor": 4
}
